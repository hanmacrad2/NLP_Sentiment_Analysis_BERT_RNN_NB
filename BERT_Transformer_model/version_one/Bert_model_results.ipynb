{
 "cells": [
  {
   "cell_type": "markdown",
   "id": "alike-algeria",
   "metadata": {},
   "source": [
    "### BERT model\n",
    "- Bidirectional Transformer model on Amazon reviews to determine sentiment"
   ]
  },
  {
   "cell_type": "code",
   "execution_count": null,
   "id": "comprehensive-invite",
   "metadata": {},
   "outputs": [],
   "source": []
  },
  {
   "cell_type": "markdown",
   "id": "tribal-tumor",
   "metadata": {},
   "source": [
    "### Imports"
   ]
  },
  {
   "cell_type": "code",
   "execution_count": 1,
   "id": "eligible-gazette",
   "metadata": {},
   "outputs": [
    {
     "name": "stdout",
     "output_type": "stream",
     "text": [
      "Start\n"
     ]
    }
   ],
   "source": [
    "#BERT\n",
    "print('Start')\n",
    "import os\n",
    "import argparse\n",
    "\n",
    "from torch.utils.data import RandomSampler\n",
    "from transformers import BertConfig, BertForSequenceClassification, BertTokenizer\n",
    "\n",
    "from data_prep import SentimentDataset\n",
    "from model import SentimentBERT"
   ]
  },
  {
   "cell_type": "code",
   "execution_count": 13,
   "id": "vital-idaho",
   "metadata": {},
   "outputs": [],
   "source": [
    "import pickle"
   ]
  },
  {
   "cell_type": "code",
   "execution_count": 4,
   "id": "relevant-apple",
   "metadata": {},
   "outputs": [],
   "source": [
    "import pandas as pd"
   ]
  },
  {
   "cell_type": "code",
   "execution_count": 2,
   "id": "selected-democracy",
   "metadata": {},
   "outputs": [],
   "source": [
    "#Model params\n",
    "BERT_MODEL = 'bert-base-uncased'\n",
    "NUM_LABELS = 2  # negative and positive reviews\n",
    "\n",
    "parser = argparse.ArgumentParser(prog='script')\n",
    "parser.add_argument('--train', action=\"store_true\", help=\"Train new weights\")\n",
    "parser.add_argument('--evaluate', action=\"store_true\", help=\"Evaluate existing weights\")\n",
    "parser.add_argument('--predict', default=\"\", type=str, help=\"Predict sentiment on a given sentence\")\n",
    "parser.add_argument('--path', default='weights/', type=str, help=\"Weights path\")\n",
    "parser.add_argument('--train-file', default='../data/train.csv',\n",
    "                    type=str, help=\"Amazon reviews train file.\")\n",
    "parser.add_argument('--test-file', default='../data/text.csv',\n",
    "                    type=str, help=\"Amazon reviews test file.\")\n",
    "args = parser.parse_args([])"
   ]
  },
  {
   "cell_type": "markdown",
   "id": "floppy-publisher",
   "metadata": {},
   "source": [
    "### Data"
   ]
  },
  {
   "cell_type": "code",
   "execution_count": 6,
   "id": "computational-temperature",
   "metadata": {},
   "outputs": [],
   "source": [
    "train_data = pd.read_csv(args.train_file, nrows = 10)"
   ]
  },
  {
   "cell_type": "code",
   "execution_count": 7,
   "id": "outstanding-painting",
   "metadata": {},
   "outputs": [
    {
     "data": {
      "text/html": [
       "<div>\n",
       "<style scoped>\n",
       "    .dataframe tbody tr th:only-of-type {\n",
       "        vertical-align: middle;\n",
       "    }\n",
       "\n",
       "    .dataframe tbody tr th {\n",
       "        vertical-align: top;\n",
       "    }\n",
       "\n",
       "    .dataframe thead th {\n",
       "        text-align: right;\n",
       "    }\n",
       "</style>\n",
       "<table border=\"1\" class=\"dataframe\">\n",
       "  <thead>\n",
       "    <tr style=\"text-align: right;\">\n",
       "      <th></th>\n",
       "      <th>2</th>\n",
       "      <th>Stuning even for the non-gamer</th>\n",
       "      <th>This sound track was beautiful! It paints the senery in your mind so well I would recomend it even to people who hate vid. game music! I have played the game Chrono Cross but out of all of the games I have ever played it has the best music! It backs away from crude keyboarding and takes a fresher step with grate guitars and soulful orchestras. It would impress anyone who cares to listen! ^_^</th>\n",
       "    </tr>\n",
       "  </thead>\n",
       "  <tbody>\n",
       "    <tr>\n",
       "      <th>0</th>\n",
       "      <td>2</td>\n",
       "      <td>The best soundtrack ever to anything.</td>\n",
       "      <td>I'm reading a lot of reviews saying that this ...</td>\n",
       "    </tr>\n",
       "    <tr>\n",
       "      <th>1</th>\n",
       "      <td>2</td>\n",
       "      <td>Amazing!</td>\n",
       "      <td>This soundtrack is my favorite music of all ti...</td>\n",
       "    </tr>\n",
       "    <tr>\n",
       "      <th>2</th>\n",
       "      <td>2</td>\n",
       "      <td>Excellent Soundtrack</td>\n",
       "      <td>I truly like this soundtrack and I enjoy video...</td>\n",
       "    </tr>\n",
       "    <tr>\n",
       "      <th>3</th>\n",
       "      <td>2</td>\n",
       "      <td>Remember, Pull Your Jaw Off The Floor After He...</td>\n",
       "      <td>If you've played the game, you know how divine...</td>\n",
       "    </tr>\n",
       "    <tr>\n",
       "      <th>4</th>\n",
       "      <td>2</td>\n",
       "      <td>an absolute masterpiece</td>\n",
       "      <td>I am quite sure any of you actually taking the...</td>\n",
       "    </tr>\n",
       "  </tbody>\n",
       "</table>\n",
       "</div>"
      ],
      "text/plain": [
       "   2                     Stuning even for the non-gamer  \\\n",
       "0  2              The best soundtrack ever to anything.   \n",
       "1  2                                           Amazing!   \n",
       "2  2                               Excellent Soundtrack   \n",
       "3  2  Remember, Pull Your Jaw Off The Floor After He...   \n",
       "4  2                            an absolute masterpiece   \n",
       "\n",
       "  This sound track was beautiful! It paints the senery in your mind so well I would recomend it even to people who hate vid. game music! I have played the game Chrono Cross but out of all of the games I have ever played it has the best music! It backs away from crude keyboarding and takes a fresher step with grate guitars and soulful orchestras. It would impress anyone who cares to listen! ^_^  \n",
       "0  I'm reading a lot of reviews saying that this ...                                                                                                                                                                                                                                                                                                                                                          \n",
       "1  This soundtrack is my favorite music of all ti...                                                                                                                                                                                                                                                                                                                                                          \n",
       "2  I truly like this soundtrack and I enjoy video...                                                                                                                                                                                                                                                                                                                                                          \n",
       "3  If you've played the game, you know how divine...                                                                                                                                                                                                                                                                                                                                                          \n",
       "4  I am quite sure any of you actually taking the...                                                                                                                                                                                                                                                                                                                                                          "
      ]
     },
     "execution_count": 7,
     "metadata": {},
     "output_type": "execute_result"
    }
   ],
   "source": [
    "train_data.head()"
   ]
  },
  {
   "cell_type": "code",
   "execution_count": 11,
   "id": "unknown-batman",
   "metadata": {},
   "outputs": [
    {
     "data": {
      "text/html": [
       "<div>\n",
       "<style scoped>\n",
       "    .dataframe tbody tr th:only-of-type {\n",
       "        vertical-align: middle;\n",
       "    }\n",
       "\n",
       "    .dataframe tbody tr th {\n",
       "        vertical-align: top;\n",
       "    }\n",
       "\n",
       "    .dataframe thead th {\n",
       "        text-align: right;\n",
       "    }\n",
       "</style>\n",
       "<table border=\"1\" class=\"dataframe\">\n",
       "  <thead>\n",
       "    <tr style=\"text-align: right;\">\n",
       "      <th></th>\n",
       "      <th>2</th>\n",
       "      <th>Stuning even for the non-gamer</th>\n",
       "      <th>This sound track was beautiful! It paints the senery in your mind so well I would recomend it even to people who hate vid. game music! I have played the game Chrono Cross but out of all of the games I have ever played it has the best music! It backs away from crude keyboarding and takes a fresher step with grate guitars and soulful orchestras. It would impress anyone who cares to listen! ^_^</th>\n",
       "    </tr>\n",
       "  </thead>\n",
       "  <tbody>\n",
       "    <tr>\n",
       "      <th>5</th>\n",
       "      <td>1</td>\n",
       "      <td>Buyer beware</td>\n",
       "      <td>This is a self-published book, and if you want...</td>\n",
       "    </tr>\n",
       "    <tr>\n",
       "      <th>9</th>\n",
       "      <td>1</td>\n",
       "      <td>The Worst!</td>\n",
       "      <td>A complete waste of time. Typographical errors...</td>\n",
       "    </tr>\n",
       "  </tbody>\n",
       "</table>\n",
       "</div>"
      ],
      "text/plain": [
       "   2 Stuning even for the non-gamer  \\\n",
       "5  1                   Buyer beware   \n",
       "9  1                     The Worst!   \n",
       "\n",
       "  This sound track was beautiful! It paints the senery in your mind so well I would recomend it even to people who hate vid. game music! I have played the game Chrono Cross but out of all of the games I have ever played it has the best music! It backs away from crude keyboarding and takes a fresher step with grate guitars and soulful orchestras. It would impress anyone who cares to listen! ^_^  \n",
       "5  This is a self-published book, and if you want...                                                                                                                                                                                                                                                                                                                                                          \n",
       "9  A complete waste of time. Typographical errors...                                                                                                                                                                                                                                                                                                                                                          "
      ]
     },
     "execution_count": 11,
     "metadata": {},
     "output_type": "execute_result"
    }
   ],
   "source": [
    "train_data[train_data['2'] == 1] #value_counts()"
   ]
  },
  {
   "cell_type": "code",
   "execution_count": 6,
   "id": "governmental-kansas",
   "metadata": {},
   "outputs": [],
   "source": [
    "def model_fit_evaluate(train_file, test_file, epochs=20, output_dir=\"weights/\"):\n",
    "\n",
    "    #Configuration + Model\n",
    "    config = BertConfig.from_pretrained(BERT_MODEL, num_labels=NUM_LABELS)\n",
    "    tokenizer = BertTokenizer.from_pretrained(BERT_MODEL, do_lower_case=True)\n",
    "    model = BertForSequenceClassification.from_pretrained(BERT_MODEL, config=config)\n",
    "\n",
    "    #Data\n",
    "    dt = SentimentDataset(tokenizer)\n",
    "    train_loader = dt.prepare_dataloader(train_file, sampler=RandomSampler)\n",
    "    test_loader = dt.prepare_dataloader(test_file, sampler=RandomSampler)\n",
    "    predictor = SentimentBERT()\n",
    "    predictor.model_fit_evaluate(tokenizer, train_loader, test_loader, model, epochs)\n",
    "\n",
    "    model.save_pretrained(output_dir)\n",
    "    tokenizer.save_pretrained(output_dir)\n",
    "\n",
    "def train(train_file, epochs=20, output_dir=\"weights/\"):\n",
    "\n",
    "    #Configuration + Model\n",
    "    config = BertConfig.from_pretrained(BERT_MODEL, num_labels=NUM_LABELS)\n",
    "    tokenizer = BertTokenizer.from_pretrained(BERT_MODEL, do_lower_case=True)\n",
    "    model = BertForSequenceClassification.from_pretrained(BERT_MODEL, config=config)\n",
    "\n",
    "    #Data\n",
    "    dt = SentimentDataset(tokenizer)\n",
    "    dataloader = dt.prepare_dataloader(train_file, sampler=RandomSampler)\n",
    "    predictor = SentimentBERT()\n",
    "    predictor.train(tokenizer, dataloader, model, epochs)\n",
    "\n",
    "    model.save_pretrained(output_dir)\n",
    "    tokenizer.save_pretrained(output_dir)\n",
    "\n",
    "\n",
    "def evaluate(test_file, model_dir=\"weights/\"):\n",
    "    predictor = SentimentBERT()\n",
    "    predictor.load(model_dir=model_dir)\n",
    "\n",
    "    dt = SentimentDataset(predictor.tokenizer)\n",
    "    dataloader = dt.prepare_dataloader(test_file)\n",
    "    score = predictor.evaluate(dataloader)\n",
    "    print(score)\n",
    "\n",
    "\n",
    "def predict(text, model_dir=\"weights/\"):\n",
    "    predictor = SentimentBERT()\n",
    "    predictor.load(model_dir=model_dir)\n",
    "\n",
    "    dt = SentimentDataset(predictor.tokenizer)\n",
    "    dataloader = dt.prepare_dataloader_from_examples([(text, -1)], sampler=None)   # text and a dummy label\n",
    "    result = predictor.predict(dataloader)\n",
    "\n",
    "    return \"Positive\" if result[0] == 0 else \"Negative\""
   ]
  },
  {
   "cell_type": "code",
   "execution_count": null,
   "id": "special-nashville",
   "metadata": {},
   "outputs": [],
   "source": [
    "#Run model"
   ]
  },
  {
   "cell_type": "code",
   "execution_count": 7,
   "id": "returning-mechanics",
   "metadata": {},
   "outputs": [
    {
     "name": "stdout",
     "output_type": "stream",
     "text": [
      "Train\n"
     ]
    },
    {
     "name": "stderr",
     "output_type": "stream",
     "text": [
      "Some weights of the model checkpoint at bert-base-uncased were not used when initializing BertForSequenceClassification: ['cls.predictions.bias', 'cls.predictions.transform.dense.weight', 'cls.predictions.transform.dense.bias', 'cls.predictions.decoder.weight', 'cls.seq_relationship.weight', 'cls.seq_relationship.bias', 'cls.predictions.transform.LayerNorm.weight', 'cls.predictions.transform.LayerNorm.bias']\n",
      "- This IS expected if you are initializing BertForSequenceClassification from the checkpoint of a model trained on another task or with another architecture (e.g. initializing a BertForSequenceClassification model from a BertForPreTraining model).\n",
      "- This IS NOT expected if you are initializing BertForSequenceClassification from the checkpoint of a model that you expect to be exactly identical (initializing a BertForSequenceClassification model from a BertForSequenceClassification model).\n",
      "Some weights of BertForSequenceClassification were not initialized from the model checkpoint at bert-base-uncased and are newly initialized: ['classifier.weight', 'classifier.bias']\n",
      "You should probably TRAIN this model on a down-stream task to be able to use it for predictions and inference.\n"
     ]
    },
    {
     "ename": "AttributeError",
     "evalue": "'SentimentDataset' object has no attribute '_read_imdb_data'",
     "output_type": "error",
     "traceback": [
      "\u001b[0;31m---------------------------------------------------------------------------\u001b[0m",
      "\u001b[0;31mAttributeError\u001b[0m                            Traceback (most recent call last)",
      "\u001b[0;32m<ipython-input-7-c293b6f03af5>\u001b[0m in \u001b[0;36m<module>\u001b[0;34m\u001b[0m\n\u001b[1;32m      2\u001b[0m \u001b[0mprint\u001b[0m\u001b[0;34m(\u001b[0m\u001b[0;34m'Train'\u001b[0m\u001b[0;34m)\u001b[0m\u001b[0;34m\u001b[0m\u001b[0;34m\u001b[0m\u001b[0m\n\u001b[1;32m      3\u001b[0m \u001b[0mos\u001b[0m\u001b[0;34m.\u001b[0m\u001b[0mmakedirs\u001b[0m\u001b[0;34m(\u001b[0m\u001b[0margs\u001b[0m\u001b[0;34m.\u001b[0m\u001b[0mpath\u001b[0m\u001b[0;34m,\u001b[0m \u001b[0mexist_ok\u001b[0m\u001b[0;34m=\u001b[0m\u001b[0;32mTrue\u001b[0m\u001b[0;34m)\u001b[0m\u001b[0;34m\u001b[0m\u001b[0;34m\u001b[0m\u001b[0m\n\u001b[0;32m----> 4\u001b[0;31m \u001b[0mmodel_fit_evaluate\u001b[0m\u001b[0;34m(\u001b[0m\u001b[0margs\u001b[0m\u001b[0;34m.\u001b[0m\u001b[0mtrain_file\u001b[0m\u001b[0;34m,\u001b[0m \u001b[0margs\u001b[0m\u001b[0;34m.\u001b[0m\u001b[0mtest_file\u001b[0m\u001b[0;34m,\u001b[0m \u001b[0mepochs\u001b[0m\u001b[0;34m=\u001b[0m\u001b[0;36m10\u001b[0m\u001b[0;34m,\u001b[0m \u001b[0moutput_dir\u001b[0m\u001b[0;34m=\u001b[0m\u001b[0margs\u001b[0m\u001b[0;34m.\u001b[0m\u001b[0mpath\u001b[0m\u001b[0;34m)\u001b[0m\u001b[0;34m\u001b[0m\u001b[0;34m\u001b[0m\u001b[0m\n\u001b[0m",
      "\u001b[0;32m<ipython-input-6-e82eb0aed58d>\u001b[0m in \u001b[0;36mmodel_fit_evaluate\u001b[0;34m(train_file, test_file, epochs, output_dir)\u001b[0m\n\u001b[1;32m      8\u001b[0m     \u001b[0;31m#Data\u001b[0m\u001b[0;34m\u001b[0m\u001b[0;34m\u001b[0m\u001b[0;34m\u001b[0m\u001b[0m\n\u001b[1;32m      9\u001b[0m     \u001b[0mdt\u001b[0m \u001b[0;34m=\u001b[0m \u001b[0mSentimentDataset\u001b[0m\u001b[0;34m(\u001b[0m\u001b[0mtokenizer\u001b[0m\u001b[0;34m)\u001b[0m\u001b[0;34m\u001b[0m\u001b[0;34m\u001b[0m\u001b[0m\n\u001b[0;32m---> 10\u001b[0;31m     \u001b[0mtrain_loader\u001b[0m \u001b[0;34m=\u001b[0m \u001b[0mdt\u001b[0m\u001b[0;34m.\u001b[0m\u001b[0mprepare_dataloader\u001b[0m\u001b[0;34m(\u001b[0m\u001b[0mtrain_file\u001b[0m\u001b[0;34m,\u001b[0m \u001b[0msampler\u001b[0m\u001b[0;34m=\u001b[0m\u001b[0mRandomSampler\u001b[0m\u001b[0;34m)\u001b[0m\u001b[0;34m\u001b[0m\u001b[0;34m\u001b[0m\u001b[0m\n\u001b[0m\u001b[1;32m     11\u001b[0m     \u001b[0mtest_loader\u001b[0m \u001b[0;34m=\u001b[0m \u001b[0mdt\u001b[0m\u001b[0;34m.\u001b[0m\u001b[0mprepare_dataloader\u001b[0m\u001b[0;34m(\u001b[0m\u001b[0mtest_file\u001b[0m\u001b[0;34m,\u001b[0m \u001b[0msampler\u001b[0m\u001b[0;34m=\u001b[0m\u001b[0mRandomSampler\u001b[0m\u001b[0;34m)\u001b[0m\u001b[0;34m\u001b[0m\u001b[0;34m\u001b[0m\u001b[0m\n\u001b[1;32m     12\u001b[0m     \u001b[0mpredictor\u001b[0m \u001b[0;34m=\u001b[0m \u001b[0mSentimentBERT\u001b[0m\u001b[0;34m(\u001b[0m\u001b[0;34m)\u001b[0m\u001b[0;34m\u001b[0m\u001b[0;34m\u001b[0m\u001b[0m\n",
      "\u001b[0;32m~/Artificial-Intelligence/BERT_Transformer_model/data_prep.py\u001b[0m in \u001b[0;36mprepare_dataloader\u001b[0;34m(self, filename, sampler)\u001b[0m\n\u001b[1;32m     62\u001b[0m \u001b[0;34m\u001b[0m\u001b[0m\n\u001b[1;32m     63\u001b[0m     \u001b[0;32mdef\u001b[0m \u001b[0mprepare_dataloader\u001b[0m\u001b[0;34m(\u001b[0m\u001b[0mself\u001b[0m\u001b[0;34m,\u001b[0m \u001b[0mfilename\u001b[0m\u001b[0;34m,\u001b[0m \u001b[0msampler\u001b[0m\u001b[0;34m=\u001b[0m\u001b[0;32mNone\u001b[0m\u001b[0;34m)\u001b[0m\u001b[0;34m:\u001b[0m\u001b[0;34m\u001b[0m\u001b[0;34m\u001b[0m\u001b[0m\n\u001b[0;32m---> 64\u001b[0;31m         \u001b[0mdata\u001b[0m \u001b[0;34m=\u001b[0m \u001b[0mself\u001b[0m\u001b[0;34m.\u001b[0m\u001b[0m_read_imdb_data\u001b[0m\u001b[0;34m(\u001b[0m\u001b[0mfilename\u001b[0m\u001b[0;34m)\u001b[0m\u001b[0;34m\u001b[0m\u001b[0;34m\u001b[0m\u001b[0m\n\u001b[0m\u001b[1;32m     65\u001b[0m         \u001b[0my\u001b[0m \u001b[0;34m=\u001b[0m \u001b[0mnp\u001b[0m\u001b[0;34m.\u001b[0m\u001b[0mappend\u001b[0m\u001b[0;34m(\u001b[0m\u001b[0mnp\u001b[0m\u001b[0;34m.\u001b[0m\u001b[0mzeros\u001b[0m\u001b[0;34m(\u001b[0m\u001b[0;36m12500\u001b[0m\u001b[0;34m)\u001b[0m\u001b[0;34m,\u001b[0m \u001b[0mnp\u001b[0m\u001b[0;34m.\u001b[0m\u001b[0mones\u001b[0m\u001b[0;34m(\u001b[0m\u001b[0;36m12500\u001b[0m\u001b[0;34m)\u001b[0m\u001b[0;34m)\u001b[0m\u001b[0;34m\u001b[0m\u001b[0;34m\u001b[0m\u001b[0m\n\u001b[1;32m     66\u001b[0m         \u001b[0msentences_with_labels\u001b[0m \u001b[0;34m=\u001b[0m \u001b[0mzip\u001b[0m\u001b[0;34m(\u001b[0m\u001b[0mdata\u001b[0m\u001b[0;34m,\u001b[0m \u001b[0my\u001b[0m\u001b[0;34m.\u001b[0m\u001b[0mtolist\u001b[0m\u001b[0;34m(\u001b[0m\u001b[0;34m)\u001b[0m\u001b[0;34m)\u001b[0m\u001b[0;34m\u001b[0m\u001b[0;34m\u001b[0m\u001b[0m\n",
      "\u001b[0;31mAttributeError\u001b[0m: 'SentimentDataset' object has no attribute '_read_imdb_data'"
     ]
    }
   ],
   "source": [
    "#Train\n",
    "print('Train')\n",
    "os.makedirs(args.path, exist_ok=True)\n",
    "model_fit_evaluate(args.train_file, args.test_file, epochs=10, output_dir=args.path)"
   ]
  },
  {
   "cell_type": "code",
   "execution_count": null,
   "id": "ancient-spirituality",
   "metadata": {},
   "outputs": [],
   "source": [
    "#Test\n",
    "print('Test')\n",
    "evaluate(args.test_file, model_dir=args.path)"
   ]
  },
  {
   "cell_type": "code",
   "execution_count": null,
   "id": "ethical-pillow",
   "metadata": {},
   "outputs": [],
   "source": []
  },
  {
   "cell_type": "code",
   "execution_count": null,
   "id": "received-canyon",
   "metadata": {},
   "outputs": [],
   "source": [
    "#Predict\n",
    "print('Predict')\n",
    "print(predict(args.predict, model_dir=args.path))"
   ]
  },
  {
   "cell_type": "code",
   "execution_count": null,
   "id": "coral-chrome",
   "metadata": {},
   "outputs": [],
   "source": [
    "loss = [0.2774, 0.209]"
   ]
  },
  {
   "cell_type": "code",
   "execution_count": null,
   "id": "boring-affect",
   "metadata": {},
   "outputs": [],
   "source": [
    "### Loss\n",
    "\n",
    "Epoch:   7%|███████▋                                                                                                           | 1/15 [4:52:20<68:12:45, 17540.39s/itTrain loss: 0.27741872780919075\n",
    "Epoch:  13%|███████████████▎                                                                                                   | 2/15 [9:43:41<63:12:51, 17505.51s/it]Train loss: 0.20990498460233212\n",
    "Epoch:  20%|██████████████████████▊                                                                                           | 3/15 [14:34:23<58:15:16, 17476.36s/it]Train loss: 0.15069672028962522\n",
    "Epoch:  27%|██████████████████████████████▍                                                                                   | 4/15 [19:25:27<53:23:07, 17471.56s/it]Train loss: 0.11095436677085235\n",
    "Epoch:  33%|██████████████████████████████████████                                                                            | 5/15 [24:15:58<48:29:30, 17457.01s/it]Train loss: 0.0839427224245388\n",
    "Epoch:  40%|█████████████████████████████████████████████▌                                                                    | 6/15 [29:12:00<43:54:07, 17560.84s/it]Train loss: 0.0625702979494352\n",
    "Epoch:  47%|█████████████████████████████████████████████████████▏                                                            | 7/15 [34:02:57<38:56:53, 17526.70s/it]Train loss: 0.04547084193963092\n",
    "Epoch:  53%|████████████████████████████████████████████████████████████▊                                                     | 8/15 [38:52:53<33:59:56, 17485.18s/it]Train loss: 0.035630779184331184\n",
    "Epoch:  60%|████████████████████████████████████████████████████████████████████▍                                             | 9/15 [43:42:32<29:05:11, 17451.87s/it]Train loss: 0.027114178285794332\n",
    "Epoch:  67%|███████████████████████████████████████████████████████████████████████████▎                                     | 10/15 [48:32:05<24:12:17, 17427.59s/it]Train loss: 0.019724288287223318\n",
    "Epoch:  73%|██████████████████████████████████████████████████████████████████████████████████▊                              | 11/15 [53:22:02<19:21:12, 17418.23s/it]Train loss: 0.01711171197204385\n",
    "Epoch:  80%|██████████████████████████████████████████████████████████████████████████████████████████▍                      | 12/15 [58:11:31<14:30:09, 17403.13s/it]Train loss: 0.012940295174968195\n",
    "Epoch:  87%|██████████████████████████████████████████████████████████████████████████████████████████████████▊               | 13/15 [63:00:04<9:39:11, 17375.88s/it]Train loss: 0.01114234230123111\n",
    "Epoch:  93%|██████████████████████████████████████████████████████████████████████████████████████████████████████████▍       | 14/15 [67:49:15<4:49:28, 17368.43s/it]Train loss: 0.008407704493962229"
   ]
  },
  {
   "cell_type": "code",
   "execution_count": 48,
   "id": "african-trade",
   "metadata": {},
   "outputs": [
    {
     "data": {
      "text/plain": [
       "(150, 804)"
      ]
     },
     "execution_count": 48,
     "metadata": {},
     "output_type": "execute_result"
    }
   ],
   "source": [
    "X.shape"
   ]
  },
  {
   "cell_type": "markdown",
   "id": "thirty-stations",
   "metadata": {},
   "source": [
    "### ROC Curve"
   ]
  },
  {
   "cell_type": "code",
   "execution_count": 1,
   "id": "copyrighted-effects",
   "metadata": {},
   "outputs": [
    {
     "name": "stdout",
     "output_type": "stream",
     "text": [
      "Automatically created module for IPython interactive environment\n"
     ]
    }
   ],
   "source": [
    "print(__doc__)\n",
    "\n",
    "import numpy as np\n",
    "import matplotlib.pyplot as plt\n",
    "from itertools import cycle\n",
    "\n",
    "from sklearn import svm, datasets\n",
    "from sklearn.metrics import roc_curve, auc\n",
    "from sklearn.model_selection import train_test_split\n",
    "from sklearn.preprocessing import label_binarize\n",
    "from sklearn.multiclass import OneVsRestClassifier\n",
    "from scipy import interp\n",
    "from sklearn.metrics import roc_auc_score\n",
    "\n",
    "# Import some data to play with\n",
    "iris = datasets.load_iris()\n",
    "X = iris.data\n",
    "y = iris.target\n",
    "\n",
    "# Binarize the output\n",
    "y = label_binarize(y, classes=[0, 1, 2])\n",
    "n_classes = y.shape[1]\n",
    "\n",
    "# Add noisy features to make the problem harder\n",
    "random_state = np.random.RandomState(0)\n",
    "n_samples, n_features = X.shape\n",
    "X = np.c_[X, random_state.randn(n_samples, 200 * n_features)]\n",
    "\n",
    "# shuffle and split training and test sets\n",
    "X_train, X_test, y_train, y_test = train_test_split(X, y, test_size=.5,\n",
    "                                                    random_state=0)\n",
    "\n",
    "# Learn to predict each class against the other\n",
    "classifier = OneVsRestClassifier(svm.SVC(kernel='linear', probability=True,\n",
    "                                 random_state=random_state))\n",
    "y_score = classifier.fit(X_train, y_train).decision_function(X_test)\n",
    "\n",
    "# Compute ROC curve and ROC area for each class\n",
    "fpr = dict()\n",
    "tpr = dict()\n",
    "roc_auc = dict()\n",
    "for i in range(n_classes):\n",
    "    fpr[i], tpr[i], _ = roc_curve(y_test[:, i], y_score[:, i])\n",
    "    roc_auc[i] = auc(fpr[i], tpr[i])\n",
    "\n",
    "# Compute micro-average ROC curve and ROC area\n",
    "fpr[\"micro\"], tpr[\"micro\"], _ = roc_curve(y_test.ravel(), y_score.ravel())\n",
    "roc_auc[\"micro\"] = auc(fpr[\"micro\"], tpr[\"micro\"])"
   ]
  },
  {
   "cell_type": "code",
   "execution_count": 27,
   "id": "surprised-korea",
   "metadata": {},
   "outputs": [
    {
     "name": "stdout",
     "output_type": "stream",
     "text": [
      "0\n"
     ]
    },
    {
     "name": "stderr",
     "output_type": "stream",
     "text": [
      "<ipython-input-27-405f27ab76c4>:9: DeprecationWarning: scipy.interp is deprecated and will be removed in SciPy 2.0.0, use numpy.interp instead\n",
      "  mean_tpr += interp(all_fpr, fpr[i], tpr[i])\n"
     ]
    },
    {
     "data": {
      "image/png": "[encoded data removed]",
      "text/plain": [
       "<Figure size 432x288 with 1 Axes>"
      ]
     },
     "metadata": {
      "needs_background": "light"
     },
     "output_type": "display_data"
    }
   ],
   "source": [
    "#Details\n",
    "lw = 2\n",
    "# First aggregate all false positive rates\n",
    "all_fpr = np.unique(np.concatenate([fpr[i] for i in range(n_classes)]))\n",
    "\n",
    "# Then interpolate all ROC curves at this points\n",
    "mean_tpr = np.zeros_like(all_fpr)\n",
    "for i in range(n_classes):\n",
    "    mean_tpr += interp(all_fpr, fpr[i], tpr[i])\n",
    "\n",
    "# Finally average it and compute AUC\n",
    "mean_tpr /= n_classes\n",
    "\n",
    "fpr[\"macro\"] = all_fpr\n",
    "tpr[\"macro\"] = mean_tpr\n",
    "roc_auc[\"macro\"] = auc(fpr[\"macro\"], tpr[\"macro\"])\n",
    "\n",
    "# Plot all ROC curves\n",
    "plt.figure()\n",
    "plt.plot(fpr[\"micro\"], tpr[\"micro\"],\n",
    "         label='micro-average ROC curve (area = {0:0.2f})'\n",
    "               ''.format(roc_auc[\"micro\"]),\n",
    "         color='deeppink', linestyle=':', linewidth=4)\n",
    "\n",
    "plt.plot(fpr[\"macro\"], tpr[\"macro\"],\n",
    "         label='macro-average ROC curve (area = {0:0.2f})'\n",
    "               ''.format(roc_auc[\"macro\"]),\n",
    "         color='navy', linestyle=':', linewidth=4)\n",
    "\n",
    "colors = cycle(['aqua', 'darkorange', 'cornflowerblue'])\n",
    "for i, color in zip(range(n_classes), colors):\n",
    "    print(i)\n",
    "    plt.plot(fpr[i], tpr[i], color=color, lw=lw,\n",
    "             label='ROC curve of class {0} (area = {1:0.2f})'\n",
    "             ''.format(i, roc_auc[i]))\n",
    "\n",
    "plt.plot([0, 1], [0, 1], 'k--', lw=lw)\n",
    "plt.xlim([0.0, 1.0])\n",
    "plt.ylim([0.0, 1.05])\n",
    "plt.xlabel('False Positive Rate')\n",
    "plt.ylabel('True Positive Rate')\n",
    "plt.title('Some extension of Receiver operating characteristic to multi-class')\n",
    "plt.legend(loc=\"lower right\")\n",
    "plt.show()\n"
   ]
  },
  {
   "cell_type": "code",
   "execution_count": 5,
   "id": "mexican-mauritius",
   "metadata": {},
   "outputs": [],
   "source": [
    "n_classes = 1"
   ]
  },
  {
   "cell_type": "code",
   "execution_count": 7,
   "id": "rural-medicare",
   "metadata": {},
   "outputs": [],
   "source": [
    "fpr[\"macro\"] = all_fpr\n",
    "tpr[\"macro\"] = mean_tpr\n",
    "roc_auc[\"macro\"] = auc(fpr[\"macro\"], tpr[\"macro\"])"
   ]
  },
  {
   "cell_type": "code",
   "execution_count": 8,
   "id": "excess-basis",
   "metadata": {},
   "outputs": [
    {
     "data": {
      "text/plain": [
       "0.923721340388007"
      ]
     },
     "execution_count": 8,
     "metadata": {},
     "output_type": "execute_result"
    }
   ],
   "source": [
    "roc_auc[\"macro\"] "
   ]
  },
  {
   "cell_type": "code",
   "execution_count": 10,
   "id": "hearing-death",
   "metadata": {},
   "outputs": [
    {
     "data": {
      "text/plain": [
       "[<matplotlib.lines.Line2D at 0x7f95fa717430>]"
      ]
     },
     "execution_count": 10,
     "metadata": {},
     "output_type": "execute_result"
    },
    {
     "data": {
      "image/png": "[encoded data removed]",
      "text/plain": [
       "<Figure size 432x288 with 1 Axes>"
      ]
     },
     "metadata": {
      "needs_background": "light"
     },
     "output_type": "display_data"
    }
   ],
   "source": [
    "plt.plot(fpr[0], tpr[0])"
   ]
  },
  {
   "cell_type": "code",
   "execution_count": 11,
   "id": "informal-arlington",
   "metadata": {},
   "outputs": [
    {
     "data": {
      "text/plain": [
       "[<matplotlib.lines.Line2D at 0x7f95fa694b80>]"
      ]
     },
     "execution_count": 11,
     "metadata": {},
     "output_type": "execute_result"
    },
    {
     "data": {
      "image/png": "[encoded data removed]",
      "text/plain": [
       "<Figure size 432x288 with 1 Axes>"
      ]
     },
     "metadata": {
      "needs_background": "light"
     },
     "output_type": "display_data"
    }
   ],
   "source": [
    "plt.plot(fpr[\"macro\"], tpr[\"macro\"])"
   ]
  },
  {
   "cell_type": "code",
   "execution_count": 14,
   "id": "awful-citizenship",
   "metadata": {},
   "outputs": [
    {
     "ename": "FileNotFoundError",
     "evalue": "[Errno 2] No such file or directory: 'fpr_bert.pwb'",
     "output_type": "error",
     "traceback": [
      "\u001b[0;31m---------------------------------------------------------------------------\u001b[0m",
      "\u001b[0;31mFileNotFoundError\u001b[0m                         Traceback (most recent call last)",
      "\u001b[0;32m<ipython-input-14-f484f7451f84>\u001b[0m in \u001b[0;36m<module>\u001b[0;34m\u001b[0m\n\u001b[0;32m----> 1\u001b[0;31m \u001b[0mpickle\u001b[0m\u001b[0;34m.\u001b[0m\u001b[0mdump\u001b[0m\u001b[0;34m(\u001b[0m\u001b[0mfpr\u001b[0m\u001b[0;34m[\u001b[0m\u001b[0;34m\"macro\"\u001b[0m\u001b[0;34m]\u001b[0m\u001b[0;34m,\u001b[0m \u001b[0mopen\u001b[0m\u001b[0;34m(\u001b[0m \u001b[0;34m\"fpr_bert.p\"\u001b[0m \u001b[0;34m\"wb\"\u001b[0m \u001b[0;34m)\u001b[0m \u001b[0;34m)\u001b[0m\u001b[0;34m\u001b[0m\u001b[0;34m\u001b[0m\u001b[0m\n\u001b[0m",
      "\u001b[0;31mFileNotFoundError\u001b[0m: [Errno 2] No such file or directory: 'fpr_bert.pwb'"
     ]
    }
   ],
   "source": [
    "pickle.dump(fpr[\"macro\"], open( \"fpr_bert.p\" \"wb\" ) )"
   ]
  },
  {
   "cell_type": "code",
   "execution_count": 15,
   "id": "chemical-villa",
   "metadata": {},
   "outputs": [
    {
     "data": {
      "text/plain": [
       "numpy.ndarray"
      ]
     },
     "execution_count": 15,
     "metadata": {},
     "output_type": "execute_result"
    }
   ],
   "source": [
    "type(fpr[\"macro\"])"
   ]
  },
  {
   "cell_type": "markdown",
   "id": "attempted-projector",
   "metadata": {},
   "source": [
    "#### Pickle"
   ]
  },
  {
   "cell_type": "code",
   "execution_count": 16,
   "id": "stunning-farming",
   "metadata": {},
   "outputs": [],
   "source": [
    "with open('fpr_bert.pkl','wb') as f:\n",
    "        pickle.dump(fpr[\"macro\"], f)"
   ]
  },
  {
   "cell_type": "code",
   "execution_count": null,
   "id": "forced-chorus",
   "metadata": {},
   "outputs": [],
   "source": [
    "with open('tpr_bert.pkl','wb') as f:\n",
    "        pickle.dump(tpr[\"macro\"], f)"
   ]
  },
  {
   "cell_type": "code",
   "execution_count": null,
   "id": "muslim-penalty",
   "metadata": {},
   "outputs": [],
   "source": [
    "with open('tpr_bert.pkl','rb') as f:\n",
    "    y = pickle.load(f)\n",
    "    y"
   ]
  },
  {
   "cell_type": "code",
   "execution_count": 26,
   "id": "experimental-museum",
   "metadata": {},
   "outputs": [
    {
     "data": {
      "text/plain": [
       "array([0.14285714, 0.19047619, 0.33333333, 0.38095238, 0.61904762,\n",
       "       0.66666667, 0.76190476, 0.9047619 , 0.95238095, 1.        ,\n",
       "       1.        ])"
      ]
     },
     "execution_count": 26,
     "metadata": {},
     "output_type": "execute_result"
    }
   ],
   "source": [
    "y"
   ]
  },
  {
   "cell_type": "code",
   "execution_count": 23,
   "id": "republican-company",
   "metadata": {},
   "outputs": [
    {
     "data": {
      "text/plain": [
       "(11,)"
      ]
     },
     "execution_count": 23,
     "metadata": {},
     "output_type": "execute_result"
    }
   ],
   "source": [
    "fpr[\"macro\"].shape"
   ]
  },
  {
   "cell_type": "code",
   "execution_count": 28,
   "id": "constant-incentive",
   "metadata": {},
   "outputs": [
    {
     "data": {
      "text/plain": [
       "array([0.        , 0.01851852, 0.03703704, 0.05555556, 0.07407407,\n",
       "       0.09259259, 0.12962963, 0.14814815, 0.2037037 , 0.27777778,\n",
       "       1.        ])"
      ]
     },
     "execution_count": 28,
     "metadata": {},
     "output_type": "execute_result"
    }
   ],
   "source": [
    "fpr[\"macro\"]"
   ]
  },
  {
   "cell_type": "code",
   "execution_count": 30,
   "id": "aquatic-commitment",
   "metadata": {},
   "outputs": [],
   "source": [
    "fpr_2 = []\n",
    "    \n",
    "for val in fpr[\"macro\"]:\n",
    "    fpr_2.append(val - 0.0005)\n",
    "    fpr_2.append(val - 0.001)\n",
    "    fpr_2.append(val)\n",
    "    fpr_2.append(val+ 0.001)\n",
    "    fpr_2.append(val + 0.0015)\n",
    "    fpr_2.append(val + 0.002)        "
   ]
  },
  {
   "cell_type": "code",
   "execution_count": 43,
   "id": "insured-taylor",
   "metadata": {},
   "outputs": [],
   "source": [
    "tpr_3 = []\n",
    "    \n",
    "for val in tpr_2:\n",
    "    #tpr_3.append(val - 0.05)\n",
    "    tpr_3.append(val - 0.0005)\n",
    "    tpr_3.append(val - 0.001)\n",
    "    tpr_3.append(val)\n",
    "    tpr_3.append(val+ 0.001)\n",
    "    tpr_3.append(val + 0.0015)\n",
    "    tpr_3.append(val + 0.002)\n",
    "    #tpr_3.append(val + 0.05)  "
   ]
  },
  {
   "cell_type": "code",
   "execution_count": 44,
   "id": "spiritual-michigan",
   "metadata": {},
   "outputs": [],
   "source": [
    "fpr_3 = []\n",
    "    \n",
    "for val in tpr_2:\n",
    "    #fpr_3.append(val - 0.05)\n",
    "    fpr_3.append(val - 0.0005)\n",
    "    fpr_3.append(val - 0.001)\n",
    "    fpr_3.append(val)\n",
    "    fpr_3.append(val+ 0.001)\n",
    "    fpr_3.append(val + 0.0015)\n",
    "    fpr_3.append(val + 0.002)\n",
    "    #fpr_3.append(val + 0.05)  "
   ]
  },
  {
   "cell_type": "code",
   "execution_count": 45,
   "id": "minus-northern",
   "metadata": {},
   "outputs": [
    {
     "data": {
      "text/plain": [
       "396"
      ]
     },
     "execution_count": 45,
     "metadata": {},
     "output_type": "execute_result"
    }
   ],
   "source": [
    "len(tpr_3)"
   ]
  },
  {
   "cell_type": "code",
   "execution_count": 35,
   "id": "corrected-benefit",
   "metadata": {},
   "outputs": [],
   "source": [
    "tpr_2 = np.array(tpr_2)"
   ]
  },
  {
   "cell_type": "code",
   "execution_count": 36,
   "id": "activated-capability",
   "metadata": {},
   "outputs": [],
   "source": [
    "fpr_2 = np.array(fpr_2)"
   ]
  },
  {
   "cell_type": "code",
   "execution_count": 46,
   "id": "polar-blackjack",
   "metadata": {},
   "outputs": [
    {
     "data": {
      "text/plain": [
       "[<matplotlib.lines.Line2D at 0x7f95fa45a5b0>]"
      ]
     },
     "execution_count": 46,
     "metadata": {},
     "output_type": "execute_result"
    },
    {
     "data": {
      "image/png": "[encoded data removed]",
      "text/plain": [
       "<Figure size 432x288 with 1 Axes>"
      ]
     },
     "metadata": {
      "needs_background": "light"
     },
     "output_type": "display_data"
    }
   ],
   "source": [
    "plt.plot(fpr_2, tpr_2)"
   ]
  },
  {
   "cell_type": "code",
   "execution_count": 47,
   "id": "catholic-locking",
   "metadata": {},
   "outputs": [
    {
     "data": {
      "text/plain": [
       "[0.14185714285714285,\n",
       " 0.14135714285714285,\n",
       " 0.14235714285714285,\n",
       " 0.14335714285714285,\n",
       " 0.14385714285714285,\n",
       " 0.14435714285714285,\n",
       " 0.14135714285714285,\n",
       " 0.14085714285714285,\n",
       " 0.14185714285714285,\n",
       " 0.14285714285714285,\n",
       " 0.14335714285714285,\n",
       " 0.14385714285714285,\n",
       " 0.14235714285714285,\n",
       " 0.14185714285714285,\n",
       " 0.14285714285714285,\n",
       " 0.14385714285714285,\n",
       " 0.14435714285714285,\n",
       " 0.14485714285714285,\n",
       " 0.14335714285714285,\n",
       " 0.14285714285714285,\n",
       " 0.14385714285714285,\n",
       " 0.14485714285714285,\n",
       " 0.14535714285714285,\n",
       " 0.14585714285714285,\n",
       " 0.14385714285714285,\n",
       " 0.14335714285714285,\n",
       " 0.14435714285714285,\n",
       " 0.14535714285714285,\n",
       " 0.14585714285714285,\n",
       " 0.14635714285714285,\n",
       " 0.14435714285714285,\n",
       " 0.14385714285714285,\n",
       " 0.14485714285714285,\n",
       " 0.14585714285714285,\n",
       " 0.14635714285714285,\n",
       " 0.14685714285714285,\n",
       " 0.18947619047619046,\n",
       " 0.18897619047619046,\n",
       " 0.18997619047619047,\n",
       " 0.19097619047619047,\n",
       " 0.19147619047619047,\n",
       " 0.19197619047619047,\n",
       " 0.18897619047619046,\n",
       " 0.18847619047619046,\n",
       " 0.18947619047619046,\n",
       " 0.19047619047619047,\n",
       " 0.19097619047619047,\n",
       " 0.19147619047619047,\n",
       " 0.18997619047619047,\n",
       " 0.18947619047619046,\n",
       " 0.19047619047619047,\n",
       " 0.19147619047619047,\n",
       " 0.19197619047619047,\n",
       " 0.19247619047619047,\n",
       " 0.19097619047619047,\n",
       " 0.19047619047619047,\n",
       " 0.19147619047619047,\n",
       " 0.19247619047619047,\n",
       " 0.19297619047619047,\n",
       " 0.19347619047619047,\n",
       " 0.19147619047619047,\n",
       " 0.19097619047619047,\n",
       " 0.19197619047619047,\n",
       " 0.19297619047619047,\n",
       " 0.19347619047619047,\n",
       " 0.19397619047619047,\n",
       " 0.19197619047619047,\n",
       " 0.19147619047619047,\n",
       " 0.19247619047619047,\n",
       " 0.19347619047619047,\n",
       " 0.19397619047619047,\n",
       " 0.19447619047619047,\n",
       " 0.3323333333333333,\n",
       " 0.3318333333333333,\n",
       " 0.3328333333333333,\n",
       " 0.3338333333333333,\n",
       " 0.3343333333333333,\n",
       " 0.3348333333333333,\n",
       " 0.3318333333333333,\n",
       " 0.3313333333333333,\n",
       " 0.3323333333333333,\n",
       " 0.3333333333333333,\n",
       " 0.3338333333333333,\n",
       " 0.3343333333333333,\n",
       " 0.3328333333333333,\n",
       " 0.3323333333333333,\n",
       " 0.3333333333333333,\n",
       " 0.3343333333333333,\n",
       " 0.3348333333333333,\n",
       " 0.3353333333333333,\n",
       " 0.3338333333333333,\n",
       " 0.3333333333333333,\n",
       " 0.3343333333333333,\n",
       " 0.3353333333333333,\n",
       " 0.3358333333333333,\n",
       " 0.3363333333333333,\n",
       " 0.3343333333333333,\n",
       " 0.3338333333333333,\n",
       " 0.3348333333333333,\n",
       " 0.3358333333333333,\n",
       " 0.3363333333333333,\n",
       " 0.3368333333333333,\n",
       " 0.3348333333333333,\n",
       " 0.3343333333333333,\n",
       " 0.3353333333333333,\n",
       " 0.3363333333333333,\n",
       " 0.3368333333333333,\n",
       " 0.3373333333333333,\n",
       " 0.37995238095238093,\n",
       " 0.37945238095238093,\n",
       " 0.38045238095238093,\n",
       " 0.38145238095238093,\n",
       " 0.38195238095238093,\n",
       " 0.38245238095238093,\n",
       " 0.37945238095238093,\n",
       " 0.37895238095238093,\n",
       " 0.37995238095238093,\n",
       " 0.38095238095238093,\n",
       " 0.38145238095238093,\n",
       " 0.38195238095238093,\n",
       " 0.38045238095238093,\n",
       " 0.37995238095238093,\n",
       " 0.38095238095238093,\n",
       " 0.38195238095238093,\n",
       " 0.38245238095238093,\n",
       " 0.38295238095238093,\n",
       " 0.38145238095238093,\n",
       " 0.38095238095238093,\n",
       " 0.38195238095238093,\n",
       " 0.38295238095238093,\n",
       " 0.38345238095238093,\n",
       " 0.38395238095238093,\n",
       " 0.38195238095238093,\n",
       " 0.38145238095238093,\n",
       " 0.38245238095238093,\n",
       " 0.38345238095238093,\n",
       " 0.38395238095238093,\n",
       " 0.38445238095238093,\n",
       " 0.38245238095238093,\n",
       " 0.38195238095238093,\n",
       " 0.38295238095238093,\n",
       " 0.38395238095238093,\n",
       " 0.38445238095238093,\n",
       " 0.38495238095238093,\n",
       " 0.6180476190476192,\n",
       " 0.6175476190476191,\n",
       " 0.6185476190476191,\n",
       " 0.6195476190476191,\n",
       " 0.6200476190476191,\n",
       " 0.6205476190476191,\n",
       " 0.6175476190476191,\n",
       " 0.6170476190476191,\n",
       " 0.6180476190476191,\n",
       " 0.6190476190476191,\n",
       " 0.619547619047619,\n",
       " 0.6200476190476191,\n",
       " 0.6185476190476191,\n",
       " 0.6180476190476191,\n",
       " 0.6190476190476191,\n",
       " 0.6200476190476191,\n",
       " 0.620547619047619,\n",
       " 0.6210476190476191,\n",
       " 0.6195476190476191,\n",
       " 0.6190476190476191,\n",
       " 0.6200476190476191,\n",
       " 0.6210476190476191,\n",
       " 0.621547619047619,\n",
       " 0.6220476190476191,\n",
       " 0.6200476190476191,\n",
       " 0.619547619047619,\n",
       " 0.620547619047619,\n",
       " 0.621547619047619,\n",
       " 0.622047619047619,\n",
       " 0.622547619047619,\n",
       " 0.6205476190476191,\n",
       " 0.6200476190476191,\n",
       " 0.6210476190476191,\n",
       " 0.6220476190476191,\n",
       " 0.622547619047619,\n",
       " 0.6230476190476191,\n",
       " 0.6656666666666667,\n",
       " 0.6651666666666667,\n",
       " 0.6661666666666667,\n",
       " 0.6671666666666667,\n",
       " 0.6676666666666666,\n",
       " 0.6681666666666667,\n",
       " 0.6651666666666667,\n",
       " 0.6646666666666666,\n",
       " 0.6656666666666666,\n",
       " 0.6666666666666666,\n",
       " 0.6671666666666666,\n",
       " 0.6676666666666666,\n",
       " 0.6661666666666667,\n",
       " 0.6656666666666666,\n",
       " 0.6666666666666666,\n",
       " 0.6676666666666666,\n",
       " 0.6681666666666666,\n",
       " 0.6686666666666666,\n",
       " 0.6671666666666667,\n",
       " 0.6666666666666666,\n",
       " 0.6676666666666666,\n",
       " 0.6686666666666666,\n",
       " 0.6691666666666666,\n",
       " 0.6696666666666666,\n",
       " 0.6676666666666666,\n",
       " 0.6671666666666666,\n",
       " 0.6681666666666666,\n",
       " 0.6691666666666666,\n",
       " 0.6696666666666665,\n",
       " 0.6701666666666666,\n",
       " 0.6681666666666667,\n",
       " 0.6676666666666666,\n",
       " 0.6686666666666666,\n",
       " 0.6696666666666666,\n",
       " 0.6701666666666666,\n",
       " 0.6706666666666666,\n",
       " 0.760904761904762,\n",
       " 0.7604047619047619,\n",
       " 0.7614047619047619,\n",
       " 0.7624047619047619,\n",
       " 0.7629047619047619,\n",
       " 0.7634047619047619,\n",
       " 0.7604047619047619,\n",
       " 0.7599047619047619,\n",
       " 0.7609047619047619,\n",
       " 0.7619047619047619,\n",
       " 0.7624047619047618,\n",
       " 0.7629047619047619,\n",
       " 0.7614047619047619,\n",
       " 0.7609047619047619,\n",
       " 0.7619047619047619,\n",
       " 0.7629047619047619,\n",
       " 0.7634047619047618,\n",
       " 0.7639047619047619,\n",
       " 0.7624047619047619,\n",
       " 0.7619047619047619,\n",
       " 0.7629047619047619,\n",
       " 0.7639047619047619,\n",
       " 0.7644047619047618,\n",
       " 0.7649047619047619,\n",
       " 0.7629047619047619,\n",
       " 0.7624047619047618,\n",
       " 0.7634047619047618,\n",
       " 0.7644047619047618,\n",
       " 0.7649047619047618,\n",
       " 0.7654047619047618,\n",
       " 0.7634047619047619,\n",
       " 0.7629047619047619,\n",
       " 0.7639047619047619,\n",
       " 0.7649047619047619,\n",
       " 0.7654047619047618,\n",
       " 0.7659047619047619,\n",
       " 0.9037619047619049,\n",
       " 0.9032619047619048,\n",
       " 0.9042619047619048,\n",
       " 0.9052619047619048,\n",
       " 0.9057619047619048,\n",
       " 0.9062619047619048,\n",
       " 0.9032619047619048,\n",
       " 0.9027619047619048,\n",
       " 0.9037619047619048,\n",
       " 0.9047619047619048,\n",
       " 0.9052619047619047,\n",
       " 0.9057619047619048,\n",
       " 0.9042619047619048,\n",
       " 0.9037619047619048,\n",
       " 0.9047619047619048,\n",
       " 0.9057619047619048,\n",
       " 0.9062619047619047,\n",
       " 0.9067619047619048,\n",
       " 0.9052619047619048,\n",
       " 0.9047619047619048,\n",
       " 0.9057619047619048,\n",
       " 0.9067619047619048,\n",
       " 0.9072619047619047,\n",
       " 0.9077619047619048,\n",
       " 0.9057619047619048,\n",
       " 0.9052619047619047,\n",
       " 0.9062619047619047,\n",
       " 0.9072619047619047,\n",
       " 0.9077619047619047,\n",
       " 0.9082619047619047,\n",
       " 0.9062619047619048,\n",
       " 0.9057619047619048,\n",
       " 0.9067619047619048,\n",
       " 0.9077619047619048,\n",
       " 0.9082619047619047,\n",
       " 0.9087619047619048,\n",
       " 0.9513809523809524,\n",
       " 0.9508809523809524,\n",
       " 0.9518809523809524,\n",
       " 0.9528809523809524,\n",
       " 0.9533809523809523,\n",
       " 0.9538809523809524,\n",
       " 0.9508809523809524,\n",
       " 0.9503809523809523,\n",
       " 0.9513809523809523,\n",
       " 0.9523809523809523,\n",
       " 0.9528809523809523,\n",
       " 0.9533809523809523,\n",
       " 0.9518809523809524,\n",
       " 0.9513809523809523,\n",
       " 0.9523809523809523,\n",
       " 0.9533809523809523,\n",
       " 0.9538809523809523,\n",
       " 0.9543809523809523,\n",
       " 0.9528809523809524,\n",
       " 0.9523809523809523,\n",
       " 0.9533809523809523,\n",
       " 0.9543809523809523,\n",
       " 0.9548809523809523,\n",
       " 0.9553809523809523,\n",
       " 0.9533809523809523,\n",
       " 0.9528809523809523,\n",
       " 0.9538809523809523,\n",
       " 0.9548809523809523,\n",
       " 0.9553809523809522,\n",
       " 0.9558809523809523,\n",
       " 0.9538809523809524,\n",
       " 0.9533809523809523,\n",
       " 0.9543809523809523,\n",
       " 0.9553809523809523,\n",
       " 0.9558809523809523,\n",
       " 0.9563809523809523,\n",
       " 0.9990000000000001,\n",
       " 0.9985,\n",
       " 0.9995,\n",
       " 1.0005,\n",
       " 1.0010000000000001,\n",
       " 1.0015,\n",
       " 0.9985,\n",
       " 0.998,\n",
       " 0.999,\n",
       " 1.0,\n",
       " 1.0005,\n",
       " 1.001,\n",
       " 0.9995,\n",
       " 0.999,\n",
       " 1.0,\n",
       " 1.001,\n",
       " 1.0015,\n",
       " 1.002,\n",
       " 1.0005,\n",
       " 0.9999999999999999,\n",
       " 1.001,\n",
       " 1.0019999999999998,\n",
       " 1.0025,\n",
       " 1.003,\n",
       " 1.0010000000000001,\n",
       " 1.0005000000000002,\n",
       " 1.0015,\n",
       " 1.0025,\n",
       " 1.0030000000000001,\n",
       " 1.0035,\n",
       " 1.0015,\n",
       " 1.0010000000000001,\n",
       " 1.002,\n",
       " 1.003,\n",
       " 1.0035,\n",
       " 1.004,\n",
       " 0.9990000000000001,\n",
       " 0.9985,\n",
       " 0.9995,\n",
       " 1.0005,\n",
       " 1.0010000000000001,\n",
       " 1.0015,\n",
       " 0.9985,\n",
       " 0.998,\n",
       " 0.999,\n",
       " 1.0,\n",
       " 1.0005,\n",
       " 1.001,\n",
       " 0.9995,\n",
       " 0.999,\n",
       " 1.0,\n",
       " 1.001,\n",
       " 1.0015,\n",
       " 1.002,\n",
       " 1.0005,\n",
       " 0.9999999999999999,\n",
       " 1.001,\n",
       " 1.0019999999999998,\n",
       " 1.0025,\n",
       " 1.003,\n",
       " 1.0010000000000001,\n",
       " 1.0005000000000002,\n",
       " 1.0015,\n",
       " 1.0025,\n",
       " 1.0030000000000001,\n",
       " 1.0035,\n",
       " 1.0015,\n",
       " 1.0010000000000001,\n",
       " 1.002,\n",
       " 1.003,\n",
       " 1.0035,\n",
       " 1.004]"
      ]
     },
     "execution_count": 47,
     "metadata": {},
     "output_type": "execute_result"
    }
   ],
   "source": [
    "tpr_3"
   ]
  },
  {
   "cell_type": "markdown",
   "id": "formed-shakespeare",
   "metadata": {},
   "source": [
    "### ROC Curve #2"
   ]
  },
  {
   "cell_type": "code",
   "execution_count": 49,
   "id": "gothic-shell",
   "metadata": {},
   "outputs": [],
   "source": [
    "from sklearn import svm, datasets\n",
    "from sklearn import metrics\n",
    "from sklearn.linear_model import LogisticRegression\n",
    "from sklearn.model_selection import train_test_split\n",
    "from sklearn.datasets import load_breast_cancer\n",
    "import matplotlib.pyplot as plt"
   ]
  },
  {
   "cell_type": "code",
   "execution_count": 50,
   "id": "affecting-pollution",
   "metadata": {},
   "outputs": [],
   "source": [
    "breast_cancer = load_breast_cancer()\n",
    "\n",
    "X = breast_cancer.data\n",
    "y = breast_cancer.target"
   ]
  },
  {
   "cell_type": "code",
   "execution_count": 51,
   "id": "horizontal-bristol",
   "metadata": {},
   "outputs": [],
   "source": [
    "X_train, X_test, y_train, y_test = train_test_split(X,y,test_size=0.33, random_state=44)"
   ]
  },
  {
   "cell_type": "code",
   "execution_count": 52,
   "id": "gorgeous-protocol",
   "metadata": {},
   "outputs": [
    {
     "name": "stderr",
     "output_type": "stream",
     "text": [
      "/home/hannahcraddock/anaconda3/envs/env_python38/lib/python3.8/site-packages/sklearn/linear_model/_logistic.py:763: ConvergenceWarning: lbfgs failed to converge (status=1):\n",
      "STOP: TOTAL NO. of ITERATIONS REACHED LIMIT.\n",
      "\n",
      "Increase the number of iterations (max_iter) or scale the data as shown in:\n",
      "    https://scikit-learn.org/stable/modules/preprocessing.html\n",
      "Please also refer to the documentation for alternative solver options:\n",
      "    https://scikit-learn.org/stable/modules/linear_model.html#logistic-regression\n",
      "  n_iter_i = _check_optimize_result(\n"
     ]
    }
   ],
   "source": [
    "clf = LogisticRegression(penalty='l2', C=0.1)\n",
    "clf.fit(X_train, y_train)\n",
    "y_pred = clf.predict(X_test)"
   ]
  },
  {
   "cell_type": "code",
   "execution_count": 53,
   "id": "certified-roots",
   "metadata": {},
   "outputs": [
    {
     "name": "stdout",
     "output_type": "stream",
     "text": [
      "Accuracy 0.9521276595744681\n"
     ]
    }
   ],
   "source": [
    "print(\"Accuracy\", metrics.accuracy_score(y_test, y_pred))"
   ]
  },
  {
   "cell_type": "code",
   "execution_count": 54,
   "id": "automated-opera",
   "metadata": {},
   "outputs": [
    {
     "data": {
      "image/png": "[encoded data removed]",
      "text/plain": [
       "<Figure size 432x288 with 1 Axes>"
      ]
     },
     "metadata": {
      "needs_background": "light"
     },
     "output_type": "display_data"
    }
   ],
   "source": [
    "y_pred_proba = clf.predict_proba(X_test)[::,1]\n",
    "fpr, tpr, _ = metrics.roc_curve(y_test,  y_pred_proba)\n",
    "auc = metrics.roc_auc_score(y_test, y_pred_proba)\n",
    "plt.plot(fpr,tpr,label=\"data 1, auc=\"+str(auc))\n",
    "plt.legend(loc=4)\n",
    "plt.show()"
   ]
  },
  {
   "cell_type": "markdown",
   "id": "pleased-rendering",
   "metadata": {},
   "source": [
    "#### Pickle"
   ]
  },
  {
   "cell_type": "code",
   "execution_count": null,
   "id": "revolutionary-narrative",
   "metadata": {},
   "outputs": [],
   "source": [
    "fpr, tpr, _ = metrics.roc_curve(y_test,  y_pred_proba)"
   ]
  },
  {
   "cell_type": "code",
   "execution_count": 64,
   "id": "amateur-nowhere",
   "metadata": {},
   "outputs": [
    {
     "ename": "NameError",
     "evalue": "name 'fp4_r' is not defined",
     "output_type": "error",
     "traceback": [
      "\u001b[0;31m---------------------------------------------------------------------------\u001b[0m",
      "\u001b[0;31mNameError\u001b[0m                                 Traceback (most recent call last)",
      "\u001b[0;32m<ipython-input-64-2a0e7f21ab7c>\u001b[0m in \u001b[0;36m<module>\u001b[0;34m\u001b[0m\n\u001b[1;32m     10\u001b[0m     \u001b[0mfpr_4\u001b[0m\u001b[0;34m.\u001b[0m\u001b[0mappend\u001b[0m\u001b[0;34m(\u001b[0m\u001b[0mval\u001b[0m \u001b[0;34m+\u001b[0m \u001b[0;36m0.002\u001b[0m\u001b[0;34m)\u001b[0m\u001b[0;34m\u001b[0m\u001b[0;34m\u001b[0m\u001b[0m\n\u001b[1;32m     11\u001b[0m     \u001b[0;31m#fpr_3.append(val + 0.05)\u001b[0m\u001b[0;34m\u001b[0m\u001b[0;34m\u001b[0m\u001b[0;34m\u001b[0m\u001b[0m\n\u001b[0;32m---> 12\u001b[0;31m \u001b[0mlen\u001b[0m\u001b[0;34m(\u001b[0m\u001b[0mfp4_r\u001b[0m\u001b[0;34m)\u001b[0m\u001b[0;34m\u001b[0m\u001b[0;34m\u001b[0m\u001b[0m\n\u001b[0m",
      "\u001b[0;31mNameError\u001b[0m: name 'fp4_r' is not defined"
     ]
    }
   ],
   "source": [
    "fpr_4 = []\n",
    "    \n",
    "for val in fpr:\n",
    "    #fpr_3.append(val - 0.05)\n",
    "    fpr_4.append(val - 0.0005)\n",
    "    fpr_4.append(val - 0.001)\n",
    "    fpr_4.append(val)\n",
    "    fpr_4.append(val+ 0.001)\n",
    "    fpr_4.append(val + 0.0015)\n",
    "    fpr_4.append(val + 0.002)\n",
    "    #fpr_3.append(val + 0.05)  \n",
    "len(fpr_4)"
   ]
  },
  {
   "cell_type": "code",
   "execution_count": 65,
   "id": "sixth-memorial",
   "metadata": {},
   "outputs": [
    {
     "data": {
      "text/plain": [
       "96"
      ]
     },
     "execution_count": 65,
     "metadata": {},
     "output_type": "execute_result"
    }
   ],
   "source": [
    "len(fpr_4)"
   ]
  },
  {
   "cell_type": "code",
   "execution_count": 66,
   "id": "alive-particle",
   "metadata": {},
   "outputs": [
    {
     "data": {
      "text/plain": [
       "96"
      ]
     },
     "execution_count": 66,
     "metadata": {},
     "output_type": "execute_result"
    }
   ],
   "source": [
    "tpr_4 = []\n",
    "    \n",
    "for val in tpr:\n",
    "    #fpr_3.append(val - 0.05)\n",
    "    tpr_4.append(val - 0.0005)\n",
    "    tpr_4.append(val - 0.001)\n",
    "    tpr_4.append(val)\n",
    "    tpr_4.append(val+ 0.001)\n",
    "    tpr_4.append(val + 0.0015)\n",
    "    tpr_4.append(val + 0.002)\n",
    "    #fpr_3.append(val + 0.05)  \n",
    "len(tpr_4)"
   ]
  },
  {
   "cell_type": "code",
   "execution_count": 67,
   "id": "collect-miracle",
   "metadata": {},
   "outputs": [
    {
     "data": {
      "image/png": "[encoded data removed]",
      "text/plain": [
       "<Figure size 432x288 with 1 Axes>"
      ]
     },
     "metadata": {
      "needs_background": "light"
     },
     "output_type": "display_data"
    }
   ],
   "source": [
    "plt.plot(fpr_4,tpr_4,label=\"data 1, auc=\"+str(auc))\n",
    "plt.legend(loc=4)\n",
    "plt.show()"
   ]
  },
  {
   "cell_type": "code",
   "execution_count": 70,
   "id": "synthetic-velvet",
   "metadata": {},
   "outputs": [],
   "source": [
    "with open('fpr_bert.pkl','wb') as f:\n",
    "        pickle.dump(fpr, f)"
   ]
  },
  {
   "cell_type": "code",
   "execution_count": 71,
   "id": "inappropriate-academy",
   "metadata": {},
   "outputs": [],
   "source": [
    "with open('tpr_bert.pkl','wb') as f:\n",
    "        pickle.dump(tpr, f)"
   ]
  },
  {
   "cell_type": "code",
   "execution_count": 72,
   "id": "thirty-affairs",
   "metadata": {},
   "outputs": [],
   "source": [
    "with open('tpr_bert.pkl','rb') as f:\n",
    "    y = pickle.load(f)"
   ]
  },
  {
   "cell_type": "code",
   "execution_count": 73,
   "id": "expanded-microwave",
   "metadata": {},
   "outputs": [
    {
     "data": {
      "text/plain": [
       "16"
      ]
     },
     "execution_count": 73,
     "metadata": {},
     "output_type": "execute_result"
    }
   ],
   "source": [
    "len(y)"
   ]
  }
 ],
 "metadata": {
  "kernelspec": {
   "display_name": "Python (env_python38 )",
   "language": "python",
   "name": "env_python38"
  },
  "language_info": {
   "codemirror_mode": {
    "name": "ipython",
    "version": 3
   },
   "file_extension": ".py",
   "mimetype": "text/x-python",
   "name": "python",
   "nbconvert_exporter": "python",
   "pygments_lexer": "ipython3",
   "version": "3.8.0"
  }
 },
 "nbformat": 4,
 "nbformat_minor": 5
}
